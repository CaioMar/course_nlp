{
 "cells": [
  {
   "cell_type": "code",
   "execution_count": 57,
   "source": [
    "import importlib\n",
    "importlib.reload(tpu)"
   ],
   "outputs": [
    {
     "output_type": "execute_result",
     "data": {
      "text/plain": "<module 'text_processing_utils' from '/home/caio/Workspace/Natural Language Processing/text_processing_utils.py'>"
     },
     "metadata": {},
     "execution_count": 57
    }
   ],
   "metadata": {}
  },
  {
   "cell_type": "code",
   "execution_count": 75,
   "source": [
    "import numpy as np\n",
    "import pandas as pd\n",
    "import text_dataset_loader as tdl\n",
    "import text_processing_utils as tpu\n",
    "from collections import defaultdict\n",
    "\n",
    "pd.options.display.max_colwidth = 10000"
   ],
   "outputs": [],
   "metadata": {}
  },
  {
   "cell_type": "code",
   "execution_count": 62,
   "source": [
    "df = tdl.load_dataset()"
   ],
   "outputs": [],
   "metadata": {}
  },
  {
   "cell_type": "code",
   "execution_count": 63,
   "metadata": {},
   "outputs": [],
   "source": [
    "stopwords = ['a', 'the', 'and', 'to']"
   ]
  },
  {
   "cell_type": "code",
   "execution_count": 64,
   "metadata": {},
   "outputs": [],
   "source": [
    "df.poem_line = tpu.tokenizer(df.poem_line, stopwords=stopwords)\n",
    "vocabulary = tpu.get_vocabulary(df.poem_line.tolist())\n",
    "df.poem_line = df.poem_line.apply(lambda x: tpu.gen_index_sequence(x, vocabulary))"
   ]
  },
  {
   "cell_type": "code",
   "execution_count": 93,
   "metadata": {},
   "outputs": [
    {
     "output_type": "error",
     "ename": "TypeError",
     "evalue": "first argument must be callable or None",
     "traceback": [
      "\u001b[0;31m---------------------------------------------------------------------------\u001b[0m",
      "\u001b[0;31mTypeError\u001b[0m                                 Traceback (most recent call last)",
      "\u001b[0;32m<ipython-input-93-3a1c0a070fa2>\u001b[0m in \u001b[0;36m<module>\u001b[0;34m\u001b[0m\n\u001b[1;32m      1\u001b[0m \u001b[0minitial_state_dict\u001b[0m \u001b[0;34m=\u001b[0m \u001b[0mdefaultdict\u001b[0m\u001b[0;34m(\u001b[0m\u001b[0mint\u001b[0m\u001b[0;34m)\u001b[0m\u001b[0;34m\u001b[0m\u001b[0;34m\u001b[0m\u001b[0m\n\u001b[1;32m      2\u001b[0m \u001b[0mtoken_dict\u001b[0m \u001b[0;34m=\u001b[0m \u001b[0mdefaultdict\u001b[0m\u001b[0;34m(\u001b[0m\u001b[0mint\u001b[0m\u001b[0;34m)\u001b[0m\u001b[0;34m\u001b[0m\u001b[0;34m\u001b[0m\u001b[0m\n\u001b[0;32m----> 3\u001b[0;31m \u001b[0mtransition_matrix\u001b[0m \u001b[0;34m=\u001b[0m \u001b[0mdefaultdict\u001b[0m\u001b[0;34m(\u001b[0m\u001b[0mdefaultdict\u001b[0m\u001b[0;34m(\u001b[0m\u001b[0mint\u001b[0m\u001b[0;34m)\u001b[0m\u001b[0;34m)\u001b[0m\u001b[0;34m\u001b[0m\u001b[0;34m\u001b[0m\u001b[0m\n\u001b[0m\u001b[1;32m      4\u001b[0m \u001b[0;32mfor\u001b[0m \u001b[0mindexes\u001b[0m \u001b[0;32min\u001b[0m \u001b[0mdf\u001b[0m\u001b[0;34m.\u001b[0m\u001b[0mquery\u001b[0m\u001b[0;34m(\u001b[0m\u001b[0;34m'author==\"edgar allan poe\"'\u001b[0m\u001b[0;34m)\u001b[0m\u001b[0;34m.\u001b[0m\u001b[0mpoem_line\u001b[0m\u001b[0;34m.\u001b[0m\u001b[0mtolist\u001b[0m\u001b[0;34m(\u001b[0m\u001b[0;34m)\u001b[0m\u001b[0;34m:\u001b[0m\u001b[0;34m\u001b[0m\u001b[0;34m\u001b[0m\u001b[0m\n\u001b[1;32m      5\u001b[0m     \u001b[0;32mif\u001b[0m \u001b[0mlen\u001b[0m\u001b[0;34m(\u001b[0m\u001b[0mindexes\u001b[0m\u001b[0;34m)\u001b[0m\u001b[0;34m:\u001b[0m\u001b[0;34m\u001b[0m\u001b[0;34m\u001b[0m\u001b[0m\n",
      "\u001b[0;31mTypeError\u001b[0m: first argument must be callable or None"
     ]
    }
   ],
   "source": [
    "initial_state_dict = defaultdict(int)\n",
    "token_dict = defaultdict(int)\n",
    "transition_matrix = dict(defaultdict(int))\n",
    "for indexes in df.query('author==\"edgar allan poe\"').poem_line.tolist():\n",
    "    if len(indexes):\n",
    "        initial_state_dict[indexes[0]] += 1\n",
    "    for i, index in enumerate(indexes):\n",
    "        token_dict[index] += 1\n",
    "        if index not in transition_matrix.keys():\n",
    "            transition_matrix[index] = defaultdict(int)\n",
    "        if i != len(indexes) - 1:\n",
    "            transition_matrix[index][i+1] += 1"
   ]
  },
  {
   "cell_type": "code",
   "execution_count": 96,
   "metadata": {},
   "outputs": [
    {
     "output_type": "execute_result",
     "data": {
      "text/plain": "{}"
     },
     "metadata": {},
     "execution_count": 96
    }
   ],
   "source": [
    "dict(defaultdict(int))"
   ]
  },
  {
   "cell_type": "code",
   "execution_count": 92,
   "metadata": {},
   "outputs": [
    {
     "output_type": "execute_result",
     "data": {
      "text/plain": "                           poem_line           author\n0    [1008, 24, 366, 247, 230, 1214]  edgar allan poe\n1         [391, 1040, 431, 978, 654]  edgar allan poe\n2          [825, 383, 131, 934, 331]  edgar allan poe\n3         [597, 1195, 170, 944, 595]  edgar allan poe\n4         [130, 658, 437, 1235, 105]  edgar allan poe\n..                               ...              ...\n792                       [93, 1087]  edgar allan poe\n793      [1185, 153, 1026, 855, 902]  edgar allan poe\n794                 [810, 1120, 743]  edgar allan poe\n795        [227, 166, 623, 203, 251]  edgar allan poe\n796       [783, 275, 301, 979, 1180]  edgar allan poe\n\n[722 rows x 2 columns]",
      "text/html": "<div>\n<style scoped>\n    .dataframe tbody tr th:only-of-type {\n        vertical-align: middle;\n    }\n\n    .dataframe tbody tr th {\n        vertical-align: top;\n    }\n\n    .dataframe thead th {\n        text-align: right;\n    }\n</style>\n<table border=\"1\" class=\"dataframe\">\n  <thead>\n    <tr style=\"text-align: right;\">\n      <th></th>\n      <th>poem_line</th>\n      <th>author</th>\n    </tr>\n  </thead>\n  <tbody>\n    <tr>\n      <th>0</th>\n      <td>[1008, 24, 366, 247, 230, 1214]</td>\n      <td>edgar allan poe</td>\n    </tr>\n    <tr>\n      <th>1</th>\n      <td>[391, 1040, 431, 978, 654]</td>\n      <td>edgar allan poe</td>\n    </tr>\n    <tr>\n      <th>2</th>\n      <td>[825, 383, 131, 934, 331]</td>\n      <td>edgar allan poe</td>\n    </tr>\n    <tr>\n      <th>3</th>\n      <td>[597, 1195, 170, 944, 595]</td>\n      <td>edgar allan poe</td>\n    </tr>\n    <tr>\n      <th>4</th>\n      <td>[130, 658, 437, 1235, 105]</td>\n      <td>edgar allan poe</td>\n    </tr>\n    <tr>\n      <th>...</th>\n      <td>...</td>\n      <td>...</td>\n    </tr>\n    <tr>\n      <th>792</th>\n      <td>[93, 1087]</td>\n      <td>edgar allan poe</td>\n    </tr>\n    <tr>\n      <th>793</th>\n      <td>[1185, 153, 1026, 855, 902]</td>\n      <td>edgar allan poe</td>\n    </tr>\n    <tr>\n      <th>794</th>\n      <td>[810, 1120, 743]</td>\n      <td>edgar allan poe</td>\n    </tr>\n    <tr>\n      <th>795</th>\n      <td>[227, 166, 623, 203, 251]</td>\n      <td>edgar allan poe</td>\n    </tr>\n    <tr>\n      <th>796</th>\n      <td>[783, 275, 301, 979, 1180]</td>\n      <td>edgar allan poe</td>\n    </tr>\n  </tbody>\n</table>\n<p>722 rows × 2 columns</p>\n</div>"
     },
     "metadata": {},
     "execution_count": 92
    }
   ],
   "source": [
    "df.query('author==\"edgar allan poe\"')"
   ]
  },
  {
   "cell_type": "code",
   "execution_count": 90,
   "metadata": {},
   "outputs": [
    {
     "output_type": "execute_result",
     "data": {
      "text/plain": "718"
     },
     "metadata": {},
     "execution_count": 90
    }
   ],
   "source": [
    "pd.DataFrame(initial_state_dict.items()).iloc[:,1].sum()"
   ]
  },
  {
   "cell_type": "code",
   "execution_count": 73,
   "metadata": {},
   "outputs": [
    {
     "output_type": "execute_result",
     "data": {
      "text/plain": "[1008,\n 24,\n 366,\n 247,\n 230,\n 1214,\n 391,\n 1040,\n 431,\n 978,\n 654,\n 825,\n 383,\n 131,\n 934,\n 331,\n 597,\n 1195,\n 170,\n 944,\n 595,\n 130,\n 658,\n 437,\n 1235,\n 105,\n 420,\n 336,\n 1228,\n 506,\n 686,\n 48,\n 153,\n 570,\n 1225,\n 79,\n 62,\n 354,\n 979,\n 528,\n 979,\n 62,\n 505,\n 5,\n 1121,\n 351,\n 455,\n 619,\n 1119,\n 909,\n 506,\n 455,\n 1111,\n 48,\n 1167,\n 8,\n 455,\n 114,\n 62,\n 596,\n 474,\n 820,\n 1043,\n 681,\n 532,\n 393,\n 926,\n 1083,\n 426,\n 1208,\n 979,\n 733,\n 310,\n 422,\n 1121,\n 433,\n 383,\n 842,\n 32,\n 1258,\n 79,\n 455,\n 862,\n 275,\n 522,\n 422,\n 203,\n 1015,\n 572,\n 458,\n 367,\n 51,\n 905,\n 367,\n 641,\n 367,\n 885,\n 1261,\n 79,\n 9,\n 206,\n 853,\n 980,\n 367,\n 489,\n 367,\n 2,\n 367,\n 569,\n 39,\n 367,\n 878,\n 367,\n 973,\n 679,\n 367,\n 466,\n 1083,\n 925,\n 1162,\n 841,\n 140,\n 562,\n 498,\n 913,\n 420,\n 115,\n 1003,\n 115,\n 889,\n 686,\n 842,\n 749,\n 351,\n 942,\n 275,\n 48,\n 379,\n 420,\n 455,\n 1208,\n 391,\n 333,\n 1196,\n 995,\n 719,\n 48,\n 202,\n 200,\n 1194,\n 426,\n 422,\n 437,\n 1051,\n 1073,\n 979,\n 1218,\n 360,\n 457,\n 290,\n 455,\n 587,\n 79,\n 340,\n 979,\n 1048,\n 806,\n 455,\n 1043,\n 316,\n 330,\n 459,\n 670,\n 349,\n 572,\n 647,\n 1068,\n 51,\n 817,\n 420,\n 455,\n 978,\n 1183,\n 187,\n 391,\n 757,\n 1185,\n 422,\n 1150,\n 506,\n 79,\n 862,\n 24,\n 1082,\n 613,\n 383,\n 275,\n 1008,\n 1169,\n 114,\n 391,\n 757,\n 322,\n 420,\n 114,\n 1063,\n 420,\n 363,\n 900,\n 506,\n 801,\n 49,\n 52,\n 391,\n 260,\n 293,\n 1064,\n 534,\n 363,\n 900,\n 17,\n 801,\n 1204,\n 409,\n 391,\n 644,\n 1121,\n 942,\n 130,\n 288,\n 592,\n 259,\n 312,\n 1117,\n 686,\n 724,\n 987,\n 361,\n 863,\n 979,\n 147,\n 229,\n 383,\n 383,\n 455,\n 862,\n 1106,\n 1206,\n 262,\n 978,\n 784,\n 422,\n 635,\n 641,\n 1106,\n 58,\n 662,\n 133,\n 24,\n 154,\n 1180,\n 443,\n 655,\n 1106,\n 43,\n 309,\n 1241,\n 590,\n 972,\n 886,\n 864,\n 659,\n 917,\n 1123,\n 886,\n 864,\n 556,\n 728,\n 1123,\n 886,\n 864,\n 850,\n 728,\n 662,\n 1182,\n 549,\n 391,\n 261,\n 1246,\n 79,\n 139,\n 407,\n 628,\n 21,\n 662,\n 1182,\n 730,\n 474,\n 934,\n 67,\n 79,\n 787,\n 391,\n 756,\n 1059,\n 314,\n 79,\n 1056,\n 662,\n 1182,\n 383,\n 474,\n 441,\n 22,\n 79,\n 787,\n 391,\n 1027,\n 924,\n 79,\n 1056,\n 338,\n 1021,\n 810,\n 494,\n 627,\n 984,\n 79,\n 786,\n 986,\n 1201,\n 351,\n 139,\n 610,\n 79,\n 786,\n 351,\n 321,\n 139,\n 610,\n 583,\n 864,\n 27,\n 361,\n 139,\n 643,\n 1182,\n 690,\n 363,\n 257,\n 61,\n 455,\n 448,\n 363,\n 476,\n 455,\n 175,\n 448,\n 437,\n 1187,\n 606,\n 383,\n 1118,\n 391,\n 222,\n 477,\n 79,\n 429,\n 455,\n 1103,\n 363,\n 886,\n 448,\n 383,\n 968,\n 1118,\n 391,\n 998,\n 79,\n 66,\n 429,\n 412,\n 660,\n 801,\n 65,\n 993,\n 917,\n 275,\n 412,\n 954,\n 886,\n 864,\n 88,\n 728,\n 412,\n 1029,\n 864,\n 235,\n 728,\n 1073,\n 198,\n 707,\n 48,\n 991,\n 1182,\n 1246,\n 198,\n 444,\n 48,\n 549,\n 79,\n 21,\n 1260,\n 549,\n 79,\n 978,\n 1053,\n 391,\n 21,\n 198,\n 546,\n 48,\n 934,\n 67,\n 79,\n 787,\n 1129,\n 1021,\n 198,\n 801,\n 1077,\n 383,\n 338,\n 940,\n 48,\n 441,\n 22,\n 79,\n 787,\n 539,\n 1027,\n 924,\n 79,\n 1056,\n 288,\n 363,\n 549,\n 1182,\n 258,\n 40,\n 397,\n 204,\n 363,\n 40,\n 708,\n 79,\n 204,\n 763,\n 298,\n 79,\n 412,\n 264,\n 965,\n 454,\n 405,\n 1182,\n 959,\n 203,\n 79,\n 922,\n 243,\n 1014,\n 807,\n 351,\n 36,\n 385,\n 739,\n 729,\n 1014,\n 25,\n 351,\n 802,\n 36,\n 385,\n 986,\n 26,\n 306,\n 114,\n 849,\n 1174,\n 520,\n 306,\n 1054,\n 810,\n 494,\n 377,\n 79,\n 253,\n 306,\n 276,\n 391,\n 314,\n 79,\n 253,\n 306,\n 137,\n 568,\n 455,\n 809,\n 686,\n 48,\n 219,\n 842,\n 583,\n 837,\n 597,\n 250,\n 505,\n 822,\n 137,\n 433,\n 225,\n 14,\n 79,\n 249,\n 181,\n 23,\n 264,\n 972,\n 754,\n 799,\n 79,\n 972,\n 433,\n 367,\n 391,\n 664,\n 79,\n 249,\n 20,\n 842,\n 23,\n 351,\n 167,\n 501,\n 880,\n 433,\n 367,\n 810,\n 796,\n 79,\n 249,\n 351,\n 509,\n 391,\n 167,\n 999,\n 880,\n 275,\n 321,\n 471,\n 167,\n 57,\n 26,\n 1137,\n 575,\n 778,\n 986,\n 854,\n 167,\n 777,\n 986,\n 413,\n 854,\n 354,\n 1191,\n 354,\n 928,\n 23,\n 48,\n 694,\n 354,\n 112,\n 928,\n 23,\n 112,\n 1073,\n 198,\n 571,\n 391,\n 213,\n 306,\n 780,\n 1198,\n 1209,\n 167,\n 1159,\n 1125,\n 886,\n 1061,\n 391,\n 236,\n 391,\n 891,\n 1147,\n 1198,\n 1209,\n 167,\n 157,\n 804,\n 886,\n 1061,\n 391,\n 236,\n 804,\n 886,\n 423,\n 1061,\n 391,\n 236,\n 986,\n 750,\n 575,\n 114,\n 8,\n 275,\n 94,\n 928,\n 23,\n 842,\n 474,\n 575,\n 607,\n 522,\n 928,\n 23,\n 265,\n 391,\n 575,\n 712,\n 522,\n 802,\n 760,\n 752,\n 114,\n 95,\n 351,\n 127,\n 391,\n 634,\n 748,\n 1152,\n 662,\n 248,\n 367,\n 926,\n 810,\n 549,\n 1260,\n 198,\n 451,\n 316,\n 929,\n 802,\n 1158,\n 330,\n 1093,\n 662,\n 645,\n 406,\n 23,\n 792,\n 198,\n 451,\n 316,\n 929,\n 1158,\n 455,\n 281,\n 275,\n 518,\n 23,\n 792,\n 303,\n 662,\n 248,\n 367,\n 1121,\n 810,\n 549,\n 1052,\n 986,\n 395,\n 321,\n 317,\n 167,\n 845,\n 167,\n 203,\n 79,\n 167,\n 1119,\n 1094,\n 167,\n 1133,\n 1119,\n 198,\n 453,\n 298,\n 79,\n 1181,\n 275,\n 864,\n 992,\n 474,\n 743,\n 79,\n 1219,\n 474,\n 743,\n 79,\n 950,\n 1219,\n 986,\n 26,\n 430,\n 114,\n 716,\n 898,\n 834,\n 842,\n 743,\n 79,\n 575,\n 950,\n 1219,\n 306,\n 750,\n 69,\n 69,\n 1222,\n 576,\n 79,\n 291,\n 871,\n 69,\n 1148,\n 139,\n 643,\n 662,\n 376,\n 659,\n 917,\n 363,\n 1123,\n 455,\n 864,\n 556,\n 728,\n 363,\n 1123,\n 455,\n 864,\n 850,\n 728,\n 986,\n 631,\n 662,\n 1182,\n 345,\n 1246,\n 842,\n 575,\n 312,\n 549,\n 79,\n 605,\n 21,\n 455,\n 986,\n 612,\n 986,\n 612,\n 383,\n 338,\n 455,\n 986,\n 332,\n 100,\n 195,\n 383,\n 338,\n 842,\n 575,\n 549,\n 79,\n 978,\n 1053,\n 391,\n 21,\n 1260,\n 430,\n 536,\n 137,\n 845,\n 759,\n 338,\n 1042,\n 986,\n 327,\n 288,\n 575,\n 934,\n 67,\n 79,\n 787,\n 575,\n 756,\n 1059,\n 314,\n 79,\n 1056,\n 1042,\n 986,\n 327,\n 288,\n 575,\n 441,\n 22,\n 79,\n 787,\n 575,\n 1027,\n 924,\n 79,\n 1056,\n 625,\n 391,\n 1075,\n 139,\n 1177,\n 1205,\n 721,\n 153,\n 118,\n 241,\n 742,\n 218,\n 361,\n 886,\n 483,\n 391,\n 289,\n 437,\n 865,\n 205,\n 1101,\n 210,\n 726,\n 758,\n 1213,\n 577,\n 479,\n 1250,\n 391,\n 1080,\n 724,\n 951,\n 79,\n 1253,\n 597,\n 1244,\n 79,\n 362,\n 130,\n 437,\n 1233,\n 597,\n 515,\n 389,\n 105,\n 391,\n 461,\n 1075,\n 139,\n 1001,\n 1205,\n 657,\n 153,\n 7,\n 294,\n 1195,\n 361,\n 1207,\n 717,\n 763,\n 513,\n 925,\n 99,\n 79,\n 1146,\n 1023,\n 586,\n 649,\n 79,\n 205,\n 422,\n 975,\n 586,\n 278,\n 79,\n 337,\n 268,\n 1108,\n 1243,\n 1106,\n 402,\n 1213,\n 150,\n 674,\n 391,\n 437,\n 744,\n 1188,\n 79,\n 978,\n 84,\n 1245,\n 291,\n 305,\n 363,\n 1078,\n 79,\n 978,\n 246,\n 491,\n 616,\n 114,\n 549,\n 86,\n 398,\n 422,\n 203,\n 1150,\n 1121,\n 832,\n 1135,\n 79,\n 978,\n 84,\n 173,\n 953,\n 773,\n 273,\n 1073,\n 127,\n 1073,\n 519,\n 1260,\n 788,\n 978,\n 1073,\n 255,\n 79,\n 907,\n 359,\n 391,\n 667,\n 391,\n 826,\n 391,\n 622,\n 79,\n 978,\n 84,\n 842,\n 224,\n 932,\n 1051,\n 1038,\n 383,\n 1170,\n 130,\n 584,\n 307,\n 763,\n 291,\n 274,\n 104,\n 665,\n 420,\n 330,\n 356,\n 763,\n 274,\n 104,\n 455,\n 864,\n 369,\n 391,\n ...]"
     },
     "metadata": {},
     "execution_count": 73
    }
   ],
   "source": [
    "for index in indexes\n",
    "{index: for index in indexes}"
   ]
  },
  {
   "cell_type": "code",
   "execution_count": null,
   "metadata": {},
   "outputs": [],
   "source": []
  }
 ],
 "metadata": {
  "orig_nbformat": 4,
  "language_info": {
   "name": "python",
   "version": "3.7.4-final",
   "mimetype": "text/x-python",
   "codemirror_mode": {
    "name": "ipython",
    "version": 3
   },
   "pygments_lexer": "ipython3",
   "nbconvert_exporter": "python",
   "file_extension": ".py"
  },
  "kernelspec": {
   "name": "caioenv",
   "display_name": "caioenv"
  },
  "interpreter": {
   "hash": "31f2aee4e71d21fbe5cf8b01ff0e069b9275f58929596ceb00d14d90e3e16cd6"
  }
 },
 "nbformat": 4,
 "nbformat_minor": 2
}