{
 "cells": [
  {
   "cell_type": "code",
   "execution_count": 31,
   "source": [
    "import pandas as pd\n",
    "import text_dataset_loader as tdl\n",
    "\n",
    "pd.options.display.max_colwidth = 10000"
   ],
   "outputs": [],
   "metadata": {}
  },
  {
   "cell_type": "code",
   "execution_count": 32,
   "source": [
    "df = tdl.load_dataset()"
   ],
   "outputs": [],
   "metadata": {}
  },
  {
   "cell_type": "code",
   "execution_count": 33,
   "source": [
    "import importlib\n",
    "importlib.reload(tdl)"
   ],
   "outputs": [
    {
     "output_type": "execute_result",
     "data": {
      "text/plain": [
       "<module 'text_dataset_loader' from '/home/caio/Workspace/Natural Language Processing/text_dataset_loader.py'>"
      ]
     },
     "metadata": {},
     "execution_count": 33
    }
   ],
   "metadata": {}
  },
  {
   "cell_type": "code",
   "execution_count": null,
   "source": [
    "char_removal = '\"!,;^~´[]}{\\/ªº#|:.*+-'"
   ],
   "outputs": [],
   "metadata": {}
  },
  {
   "cell_type": "code",
   "execution_count": 36,
   "source": [
    "df.poem_line.apply(lambda x: x.lower().split())"
   ],
   "outputs": [
    {
     "output_type": "execute_result",
     "data": {
      "text/plain": [
       "0                               [lo!, death, hath, rear'd, himself, a, throne]\n",
       "1                                         [in, a, strange, city,, all, alone,]\n",
       "2                                          [far, down, within, the, dim, west]\n",
       "3       [where, the, good,, and, the, bad,, and, the, worst,, and, the, best,]\n",
       "4                                      [have, gone, to, their, eternal, rest.]\n",
       "                                         ...                                  \n",
       "1589                                              [to, a, discordant, melody;]\n",
       "1590                                 [while,, like, a, rapid, ghastly, river,]\n",
       "1591                                               [through, the, pale, door,]\n",
       "1592                                 [a, hideous, throng, rush, out, forever,]\n",
       "1593                                     [and, laugh, --but, smile, no, more.]\n",
       "Name: poem_line, Length: 1594, dtype: object"
      ]
     },
     "metadata": {},
     "execution_count": 36
    }
   ],
   "metadata": {}
  },
  {
   "cell_type": "code",
   "execution_count": null,
   "source": [],
   "outputs": [],
   "metadata": {}
  }
 ],
 "metadata": {
  "orig_nbformat": 4,
  "language_info": {
   "name": "python",
   "version": "3.6.9",
   "mimetype": "text/x-python",
   "codemirror_mode": {
    "name": "ipython",
    "version": 3
   },
   "pygments_lexer": "ipython3",
   "nbconvert_exporter": "python",
   "file_extension": ".py"
  },
  "kernelspec": {
   "name": "python3",
   "display_name": "Python 3.6.9 64-bit"
  },
  "interpreter": {
   "hash": "31f2aee4e71d21fbe5cf8b01ff0e069b9275f58929596ceb00d14d90e3e16cd6"
  }
 },
 "nbformat": 4,
 "nbformat_minor": 2
}